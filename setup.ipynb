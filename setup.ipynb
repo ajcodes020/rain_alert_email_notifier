{
 "cells": [
  {
   "cell_type": "markdown",
   "metadata": {},
   "source": [
    "## Setup Google App Password\n",
    "- Go to \"Manage Your Google Account\"\n",
    "    - Go to Security\n",
    "    - Enable 2-step verification\n",
    "    - Create an app password\n",
    "    - Copy the code and replace the MY_PASSWORD in main.py file.\n",
    "    - Note: the code should be enclosed in double quotes (\"\")"
   ]
  },
  {
   "cell_type": "markdown",
   "metadata": {},
   "source": [
    "## Create account - openweathermap.org\n",
    "- Sign Up and Login\n",
    "    - Enter username, email, password\n",
    "        - Company:\n",
    "        - Purpose:\n",
    "        - Verify email\n",
    "- Go to \"My API keys\" dropdown of your username.\n",
    "    - Copy the code below the \"Key\" and replace the API_KEY in main.py file"
   ]
  },
  {
   "cell_type": "markdown",
   "metadata": {},
   "source": [
    "## Find your Latitude and Longitude\n",
    "- Go to https://www.latlong.net/\n",
    "    - Type your location under the \"Place Name\", then click \"Find\".\n",
    "    - Copy the Latitude, Longitude and replace the LATITUDE, LONGITUDE respectively in main.py file.\n",
    "    - Note: The value of LATITUDE and LONGITUDE does not need to be enclosed in double quotes (\"\")."
   ]
  }
 ],
 "metadata": {
  "kernelspec": {
   "display_name": ".rain_alert_en",
   "language": "python",
   "name": "python3"
  },
  "language_info": {
   "name": "python",
   "version": "3.12.1"
  }
 },
 "nbformat": 4,
 "nbformat_minor": 2
}

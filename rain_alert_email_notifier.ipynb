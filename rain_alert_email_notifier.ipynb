{
 "cells": [
  {
   "cell_type": "markdown",
   "metadata": {},
   "source": [
    "## Sources:\n",
    "- Weather API source: https://openweathermap.org/\n",
    "- Latitude and Longitude Finder: https://www.latlong.net/"
   ]
  },
  {
   "cell_type": "markdown",
   "metadata": {},
   "source": [
    "## Imports, Constants"
   ]
  },
  {
   "cell_type": "code",
   "execution_count": 25,
   "metadata": {},
   "outputs": [],
   "source": [
    "import requests\n",
    "import smtplib\n",
    "\n",
    "MY_EMAIL = \" Your Email \"\n",
    "MY_PASSWORD = \" Your App Password\"\n",
    "OWM_ENDPOINT = \"https://api.openweathermap.org/data/2.5/forecast\"\n",
    "API_KEY = \" Your API Key \"\n",
    "\n",
    "LATITUDE = \" Your Latitude \"\n",
    "LONGITUDE = \" Your Longitude \""
   ]
  },
  {
   "cell_type": "markdown",
   "metadata": {},
   "source": [
    "## API parameters, response"
   ]
  },
  {
   "cell_type": "code",
   "execution_count": 26,
   "metadata": {},
   "outputs": [],
   "source": [
    "weather_params = {\n",
    "    \"lat\": LATITUDE,\n",
    "    \"lon\": LONGITUDE,\n",
    "    \"appid\": API_KEY,\n",
    "    \"cnt\": 4,\n",
    "}\n",
    "\n",
    "response = requests.get(OWM_ENDPOINT, weather_params)\n",
    "response.raise_for_status()\n",
    "weather_data = response.json()"
   ]
  },
  {
   "cell_type": "markdown",
   "metadata": {},
   "source": [
    "## If it's going to rain in the next 12 hours, send email"
   ]
  },
  {
   "cell_type": "code",
   "execution_count": 27,
   "metadata": {},
   "outputs": [],
   "source": [
    "will_rain = False\n",
    "for hour_data in weather_data['list']:\n",
    "    condition_code = hour_data['weather'][0]['id']\n",
    "    if int(condition_code) < 700:\n",
    "        will_rain = True\n",
    "\n",
    "if will_rain:\n",
    "    with smtplib.SMTP(\"smtp.gmail.com\") as connection:\n",
    "        connection.starttls()\n",
    "        connection.login(user=MY_EMAIL, password=MY_PASSWORD)\n",
    "        connection.sendmail(\n",
    "            from_addr=MY_EMAIL, \n",
    "            to_addrs=MY_EMAIL, \n",
    "            msg=f\"Subject:Bring an umbrella!\\n\\nIt will rain in the next 12 hours.\"\n",
    "        )"
   ]
  }
 ],
 "metadata": {
  "kernelspec": {
   "display_name": ".rain_alert_en",
   "language": "python",
   "name": "python3"
  },
  "language_info": {
   "codemirror_mode": {
    "name": "ipython",
    "version": 3
   },
   "file_extension": ".py",
   "mimetype": "text/x-python",
   "name": "python",
   "nbconvert_exporter": "python",
   "pygments_lexer": "ipython3",
   "version": "3.12.1"
  }
 },
 "nbformat": 4,
 "nbformat_minor": 2
}
